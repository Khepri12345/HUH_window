{
 "cells": [
  {
   "cell_type": "code",
   "execution_count": 4,
   "metadata": {},
   "outputs": [],
   "source": [
    "from dash import Dash,dcc,html,Input,Output,callback\n",
    "import pandas as pd\n",
    "\n",
    "app = Dash(__name__)\n",
    "\n",
    "df = pd.read_csv('https://plotly.github.io/datasets/country_indicators.csv')"
   ]
  },
  {
   "cell_type": "code",
   "execution_count": null,
   "metadata": {},
   "outputs": [],
   "source": [
    "display(df)\n",
    "#df['Indicator Name'].unique()\n",
    "dff = df[df['Year'] == 1962]\n",
    "dff[dff['Indicator Name'] == 'Agriculture, value added (% of GDP)']['Value']"
   ]
  },
  {
   "cell_type": "code",
   "execution_count": null,
   "metadata": {},
   "outputs": [],
   "source": [
    "import plotly.express as px\n",
    "\n",
    "app.layout = html.Div([\n",
    "    html.Div([\n",
    "        html.Div([\n",
    "            dcc.Dropdown(\n",
    "                df['Indicator Name'].unique(),\n",
    "                'Fertility rate, total (births per woman)',\n",
    "                id='xaxis-column'\n",
    "            ),\n",
    "            dcc.RadioItems(\n",
    "                ['Linear','Log'],\n",
    "                'Linear',\n",
    "                id = 'xaxis-type',\n",
    "                inline=True\n",
    "            )\n",
    "        ],\n",
    "        style={'width':'48%','display':'inline-block'}\n",
    "        ),\n",
    "        html.Div([\n",
    "            dcc.Dropdown(\n",
    "                df['Indicator Name'].unique(),\n",
    "                'Fertility rate, total (births per woman)',\n",
    "                id='yaxis-column'\n",
    "            ),\n",
    "            dcc.RadioItems(\n",
    "                ['Linear','Log'],\n",
    "                'Linear',\n",
    "                id = 'yaxis-type',\n",
    "                inline=True\n",
    "            )\n",
    "        ],\n",
    "        style={'width':'48%','display':'inline-block'}\n",
    "        )\n",
    "    ]),\n",
    "    dcc.Graph(id='indicator-graphic'),\n",
    "    dcc.Slider(\n",
    "        min=df['Year'].min(),\n",
    "        max=df['Year'].max(),\n",
    "        step=None,\n",
    "        id='year--slider',\n",
    "        value=df['Year'].max(),\n",
    "        marks={str(year):str(year) for year in df['year'].unique()}\n",
    "    )\n",
    "])\n",
    "\n",
    "@callback(\n",
    "    Output('indicator-graphic','figure'),\n",
    "    Input('xaxis-column','value'),\n",
    "    Input('yaxis-column','value'),\n",
    "    Input('xaxis-type','value'),\n",
    "    Input('yaxis-type','value'),\n",
    "    Input('year--slider','value')\n",
    ")\n",
    "def update_graph(xaxis_column_name, yaxis_column_name, xaxis_type, yaxis_type, year_value):\n",
    "    dff = df[df['Year'] == year_value]\n",
    "    xValue = dff[dff['Indicator Name'] == xaxis_column_name]['Value']\n",
    "    yValue = dff[dff['Indicator Name'] == yaxis_column_name]['Value']\n",
    "    hoverValue = dff[dff['Indicator Name'] == yaxis_column_name]['Country Name']\n",
    "    fig = px.scatter(x=xValue, y=yValue, hover_name=hoverValue)\n",
    "    fig.update_layout(margin={'l':40, 'b':40, 't':10, 'r':0},\n",
    "                      hovermode='closest')\n",
    "    fig.update_xaxes(title=xaxis_column_name,\n",
    "                     type='linear' if xaxis_type=='Linear' else 'log')\n",
    "    fig.update_yaxes(title=yaxis_column_name,\n",
    "                     type='linear' if yaxis_type=='Linear' else 'log')\n",
    "    return fig\n",
    "\n",
    "if __name__ == '__main__':\n",
    "    app.run(debug=True)"
   ]
  }
 ],
 "metadata": {
  "kernelspec": {
   "display_name": "venv2",
   "language": "python",
   "name": "python3"
  },
  "language_info": {
   "codemirror_mode": {
    "name": "ipython",
    "version": 3
   },
   "file_extension": ".py",
   "mimetype": "text/x-python",
   "name": "python",
   "nbconvert_exporter": "python",
   "pygments_lexer": "ipython3",
   "version": "3.11.9"
  }
 },
 "nbformat": 4,
 "nbformat_minor": 2
}
