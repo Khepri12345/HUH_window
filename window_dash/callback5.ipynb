{
 "cells": [
  {
   "cell_type": "code",
   "execution_count": null,
   "metadata": {},
   "outputs": [],
   "source": [
    "import data\n",
    "import pandas as pd\n",
    "\n",
    "content = data.get_snaOfArea(area='士林區')\n",
    "df = pd.DataFrame(content)\n",
    "df.columns = ['站點名稱','總數','可借','可還','日期','狀態']\n",
    "df.to_dict('records')"
   ]
  }
 ],
 "metadata": {
  "language_info": {
   "name": "python"
  }
 },
 "nbformat": 4,
 "nbformat_minor": 2
}
