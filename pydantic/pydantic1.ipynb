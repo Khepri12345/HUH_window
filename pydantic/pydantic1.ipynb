{
 "cells": [
  {
   "cell_type": "code",
   "execution_count": 29,
   "metadata": {},
   "outputs": [],
   "source": [
    "from pydantic import BaseModel\n",
    "\n",
    "class InventoryItem(BaseModel):\n",
    "    name: str\n",
    "    unit_price: float\n",
    "    quantity_on_hand: int | None = None #optional(可有可無)"
   ]
  },
  {
   "cell_type": "code",
   "execution_count": 19,
   "metadata": {},
   "outputs": [
    {
     "name": "stdout",
     "output_type": "stream",
     "text": [
      "name='AAAA' unit_price=150.4 quantity_on_hand=None\n"
     ]
    }
   ],
   "source": [
    "#unit_price字串，自動轉換float\n",
    "item1 = InventoryItem(name=\"AAAA\", unit_price=\"150.4\")\n",
    "print(item1)"
   ]
  },
  {
   "cell_type": "code",
   "execution_count": 20,
   "metadata": {},
   "outputs": [],
   "source": [
    "#unit_price字串，自動轉換int失效，需手動轉換，raise ValidationError\n",
    "from pydantic import ValidationError\n",
    "try:\n",
    "    item1 = InventoryItem(name=\"AAAA\", unit_price=\"150.4\", quantity_on_hand='15')\n",
    "except ValidationError as e:\n",
    "    print(e)"
   ]
  },
  {
   "cell_type": "code",
   "execution_count": 30,
   "metadata": {},
   "outputs": [
    {
     "name": "stdout",
     "output_type": "stream",
     "text": [
      "name='AAAA' unit_price=150.4 quantity_on_hand=15\n"
     ]
    }
   ],
   "source": [
    "#使用class method\n",
    "#model_validation(dict)\n",
    "#model_validate_json(json字串)\n",
    "data:dict = {\n",
    "    \"name\": \"AAAA\",\n",
    "    \"unit_price\": 150.4, \n",
    "    \"quantity_on_hand\": \"15\"\n",
    "}\n",
    "\n",
    "try:\n",
    "    item2 = InventoryItem.model_validate(data)\n",
    "except ValidationError as e:\n",
    "    print(e)\n",
    "else:\n",
    "    print(item2)"
   ]
  },
  {
   "cell_type": "code",
   "execution_count": 24,
   "metadata": {},
   "outputs": [
    {
     "name": "stdout",
     "output_type": "stream",
     "text": [
      "name='AAAA' unit_price=150.4 quantity_on_hand=15\n"
     ]
    }
   ],
   "source": [
    "class InventoryItem(BaseModel):\n",
    "    name: str\n",
    "    unit_price: float\n",
    "    quantity_on_hand: int | None = None \n",
    "\n",
    "data_json:str = '''{\n",
    "    \"name\": \"AAAA\",\n",
    "    \"unit_price\": 150.4, \n",
    "    \"quantity_on_hand\": \"15\"\n",
    "}\n",
    "'''\n",
    "\n",
    "try:\n",
    "    item3 = InventoryItem.model_validate_json(data_json)\n",
    "except ValidationError as e:\n",
    "    print(e)\n",
    "else:\n",
    "    print(item3)"
   ]
  },
  {
   "cell_type": "code",
   "execution_count": 33,
   "metadata": {},
   "outputs": [
    {
     "name": "stdout",
     "output_type": "stream",
     "text": [
      "name='AAAA' unit_price=150.4 quantity_on_hand=None\n"
     ]
    }
   ],
   "source": [
    "class InventoryItem(BaseModel):\n",
    "    name: str\n",
    "    unit_price: float\n",
    "    quantity_on_hand: int | None = None\n",
    "\n",
    "data_json:str = '''{\n",
    "    \"name\": \"AAAA\",\n",
    "    \"unit_price\": 150.4\n",
    "}\n",
    "'''\n",
    "item4 = InventoryItem.model_validate_json(data_json)\n",
    "print(item4)"
   ]
  }
 ],
 "metadata": {
  "kernelspec": {
   "display_name": "venv1",
   "language": "python",
   "name": "python3"
  },
  "language_info": {
   "codemirror_mode": {
    "name": "ipython",
    "version": 3
   },
   "file_extension": ".py",
   "mimetype": "text/x-python",
   "name": "python",
   "nbconvert_exporter": "python",
   "pygments_lexer": "ipython3",
   "version": "3.12.3"
  }
 },
 "nbformat": 4,
 "nbformat_minor": 2
}
