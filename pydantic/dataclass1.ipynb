{
 "cells": [
  {
   "cell_type": "code",
   "execution_count": 2,
   "metadata": {},
   "outputs": [
    {
     "name": "stdout",
     "output_type": "stream",
     "text": [
      "姓名:AAAA\n",
      "AGE:90\n",
      "\n"
     ]
    }
   ],
   "source": [
    "class Person():\n",
    "    def __init__(self, name:str, age:int):\n",
    "        self.__name = name\n",
    "        self.age = age\n",
    "    \n",
    "    def __repr__(self):\n",
    "        message = ''\n",
    "        message += f\"姓名:{self.name}\\n\"\n",
    "        message += f\"AGE:{self.age}\\n\"\n",
    "        return message\n",
    "    \n",
    "    @property\n",
    "    def name(self)->str:\n",
    "        return self.__name\n",
    "\n",
    "p1:Person = Person(age=25, name=\"AAAA\")\n",
    "p1.age = \"90\"\n",
    "print(p1)"
   ]
  },
  {
   "cell_type": "code",
   "execution_count": 3,
   "metadata": {},
   "outputs": [
    {
     "name": "stdout",
     "output_type": "stream",
     "text": [
      "及格\n",
      "不及格\n"
     ]
    }
   ],
   "source": [
    "class Student(Person):\n",
    "    @classmethod\n",
    "    def get_student(cls, name:str, age:int, scores:int):\n",
    "        return Student(name=name, age=age, scores=scores)\n",
    "    \n",
    "    def __init__(self, name:str, age:int, scores:int):\n",
    "        super().__init__(name, age)\n",
    "        self.scores = scores\n",
    "\n",
    "    def get_level(self)->str:\n",
    "        if self.scores >= 60:\n",
    "            return \"及格\"\n",
    "        else:\n",
    "            return \"不及格\"\n",
    "\n",
    "#透過init建立\n",
    "s1:Student = Student(\"我啊\", age=50, scores=70)\n",
    "print(s1.get_level())\n",
    "\n",
    "#透過classmethod建立實體\n",
    "s2:Student = Student.get_student(\"BBBB\", 53, 45)\n",
    "print(s2.get_level())"
   ]
  }
 ],
 "metadata": {
  "kernelspec": {
   "display_name": "venv1",
   "language": "python",
   "name": "python3"
  },
  "language_info": {
   "codemirror_mode": {
    "name": "ipython",
    "version": 3
   },
   "file_extension": ".py",
   "mimetype": "text/x-python",
   "name": "python",
   "nbconvert_exporter": "python",
   "pygments_lexer": "ipython3",
   "version": "3.12.3"
  }
 },
 "nbformat": 4,
 "nbformat_minor": 2
}
