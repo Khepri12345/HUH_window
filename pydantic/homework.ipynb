{
 "cells": [
  {
   "cell_type": "code",
   "execution_count": null,
   "metadata": {},
   "outputs": [],
   "source": [
    "with open(\"data.json\", encoding=\"utf-8\") as file:\n",
    "    content:str = file.read()\n",
    "print(content)"
   ]
  },
  {
   "cell_type": "code",
   "execution_count": null,
   "metadata": {},
   "outputs": [],
   "source": [
    "from pydantic import BaseModel\n",
    "\n",
    "class Address(BaseModel):\n",
    "    street:str\n",
    "    city:str\n",
    "    zipcode:int\n",
    "\n",
    "class Project(BaseModel):\n",
    "  name:str\n",
    "  status:str\n",
    "\n",
    "class Person(BaseModel):\n",
    "    name:str\n",
    "    age:int\n",
    "    address:dict = Address\n",
    "    projects = list[Project]\n",
    "\n",
    "p = Person.model_validate_json(content)\n",
    "print(p)"
   ]
  },
  {
   "cell_type": "code",
   "execution_count": null,
   "metadata": {},
   "outputs": [],
   "source": [
    "data = p.model.dump()\n",
    "type(data)"
   ]
  }
 ],
 "metadata": {
  "kernelspec": {
   "display_name": "venv1",
   "language": "python",
   "name": "python3"
  },
  "language_info": {
   "name": "python",
   "version": "3.12.3"
  }
 },
 "nbformat": 4,
 "nbformat_minor": 2
}
