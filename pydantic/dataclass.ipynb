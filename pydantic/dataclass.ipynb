{
 "cells": [
  {
   "cell_type": "code",
   "execution_count": null,
   "metadata": {},
   "outputs": [],
   "source": [
    "class Person():\n",
    "    def __init__(self, name:str, age:int):\n",
    "        self.__name = name\n",
    "        self.age = age\n",
    "    \n",
    "    def __repr__(self):\n",
    "        message = ''\n",
    "        message += f\"姓名{self.name}\\n\"\n",
    "        message += f\"AGE{self.age}\\n\"\n",
    "        return message\n",
    "    @property\n",
    "    def name(self)->str:\n",
    "        return self.__name\n",
    "\n",
    "p1:Person = Person(age=25, name=\"誰啊\")\n",
    "p1.age = \"90\"\n",
    "print(p1)"
   ]
  }
 ],
 "metadata": {
  "language_info": {
   "name": "python"
  }
 },
 "nbformat": 4,
 "nbformat_minor": 2
}
