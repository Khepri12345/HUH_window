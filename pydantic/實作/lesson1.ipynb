{
 "cells": [
  {
   "cell_type": "code",
   "execution_count": 3,
   "metadata": {},
   "outputs": [],
   "source": [
    "import requests\n",
    "from requests import JSONDecodeError\n",
    "from pprint import pprint\n",
    "\n",
    "def download_json()->dict[any]:\n",
    "    aqi_url = 'https://data.moenv.gov.tw/api/v2/aqx_p_488?api_key=e8dd42e6-9b8b-43f8-991e-b3dee723a52d&limit=1000&sort=datacreationdate desc&format=JSON'\n",
    "\n",
    "    try:\n",
    "        response = requests.get(aqi_url)\n",
    "    except Exception:\n",
    "        raise Exception(\"連線失敗\")\n",
    "    else:\n",
    "        if response.status_code == 200:\n",
    "            try:\n",
    "                all_data:dict[any] = response.json()\n",
    "                return all_data\n",
    "            except JSONDecodeError:\n",
    "                raise Exception(\"json格式錯誤\")\n",
    "        else:\n",
    "            raise Exception(\"N\")"
   ]
  },
  {
   "cell_type": "code",
   "execution_count": 2,
   "metadata": {},
   "outputs": [
    {
     "name": "stdout",
     "output_type": "stream",
     "text": [
      "name 'download_json' is not defined\n"
     ]
    }
   ],
   "source": [
    "try:\n",
    "    all_data:dict[any] = download_json()\n",
    "    pprint(all_data['records'])\n",
    "except Exception as error:\n",
    "    print(error)"
   ]
  },
  {
   "cell_type": "code",
   "execution_count": null,
   "metadata": {},
   "outputs": [],
   "source": [
    "from pydantic import BaseModel, Field, RootModel, field_validator\n",
    "\n",
    "class Site(BaseModel):\n",
    "    site_name:str = Field(alias='sitename')\n",
    "    county:str\n",
    "    aqi:int\n",
    "    status:str\n",
    "    pm25:float = Field(alias='pm2.5')\n",
    "    date:str = Field(alias='datacreationdate')\n",
    "\n",
    "    #自訂驗證\n",
    "    @field_validator(\"pm25\",mode='before') \n",
    "    @classmethod\n",
    "    def abc(cls, value:str)->str:\n",
    "        if value == \"\":\n",
    "            return \"0.0\"\n",
    "        else:\n",
    "            return value\n",
    "\n",
    "class Records(RootModel):\n",
    "    root:list[Site]\n",
    "\n",
    "records:Records = Records.model_validate(all_data['records'])\n",
    "data = records.model_dump()\n",
    "pprint(data)"
   ]
  }
 ],
 "metadata": {
  "kernelspec": {
   "display_name": "venv1",
   "language": "python",
   "name": "python3"
  },
  "language_info": {
   "codemirror_mode": {
    "name": "ipython",
    "version": 3
   },
   "file_extension": ".py",
   "mimetype": "text/x-python",
   "name": "python",
   "nbconvert_exporter": "python",
   "pygments_lexer": "ipython3",
   "version": "3.12.3"
  }
 },
 "nbformat": 4,
 "nbformat_minor": 2
}
