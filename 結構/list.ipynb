{
 "cells": [
  {
   "cell_type": "code",
   "execution_count": 1,
   "metadata": {},
   "outputs": [
    {
     "name": "stdout",
     "output_type": "stream",
     "text": [
      "5\n",
      "<class 'list'>\n"
     ]
    }
   ],
   "source": [
    "l1 = [2, 4, 6, 8, 10]\n",
    "print(len(l1)) #查元素數量\n",
    "print(type(l1)) #資料類型\n"
   ]
  },
  {
   "cell_type": "code",
   "execution_count": 2,
   "metadata": {},
   "outputs": [
    {
     "name": "stdout",
     "output_type": "stream",
     "text": [
      "[2, 4, 6, 8, 10, 30]\n"
     ]
    }
   ],
   "source": [
    "l1.append(30)\n",
    "print(l1)"
   ]
  },
  {
   "cell_type": "code",
   "execution_count": 3,
   "metadata": {},
   "outputs": [
    {
     "name": "stdout",
     "output_type": "stream",
     "text": [
      "[2, 4, 6, 8, 10]\n"
     ]
    }
   ],
   "source": [
    "l1.pop()\n",
    "print(l1)"
   ]
  },
  {
   "cell_type": "code",
   "execution_count": 11,
   "metadata": {},
   "outputs": [
    {
     "name": "stdout",
     "output_type": "stream",
     "text": [
      "2 4 6 8 10\n",
      "編號超出範圍\n"
     ]
    }
   ],
   "source": [
    "print(l1[0],end=\" \")\n",
    "print(l1[1],end=\" \")\n",
    "print(l1[2],end=\" \")\n",
    "print(l1[3],end=\" \")\n",
    "print(l1[4])\n",
    "try:\n",
    "    print(l1[5])\n",
    "except IndexError:\n",
    "    print(\"編號超出範圍\")\n",
    "except Exception as e:\n",
    "    print(f\"錯誤:{e}\")"
   ]
  },
  {
   "cell_type": "code",
   "execution_count": 4,
   "metadata": {},
   "outputs": [
    {
     "name": "stdout",
     "output_type": "stream",
     "text": [
      "2\n",
      "4\n",
      "6\n",
      "8\n",
      "10\n"
     ]
    }
   ],
   "source": [
    "for item in l1:\n",
    "    print(item)"
   ]
  },
  {
   "cell_type": "code",
   "execution_count": 7,
   "metadata": {},
   "outputs": [
    {
     "name": "stdout",
     "output_type": "stream",
     "text": [
      "(0, 2)\n",
      "(1, 4)\n",
      "(2, 6)\n",
      "(3, 8)\n",
      "(4, 10)\n",
      "==========\n",
      "0\n",
      "2\n",
      "========\n",
      "1\n",
      "4\n",
      "========\n",
      "2\n",
      "6\n",
      "========\n",
      "3\n",
      "8\n",
      "========\n",
      "4\n",
      "10\n",
      "========\n"
     ]
    }
   ],
   "source": [
    "for item in enumerate(l1):\n",
    "    print(item)\n",
    "print(\"==========\")\n",
    "for index, value in enumerate(l1):\n",
    "    print(index)\n",
    "    print(value)\n",
    "    print(\"========\")"
   ]
  },
  {
   "cell_type": "code",
   "execution_count": 9,
   "metadata": {},
   "outputs": [
    {
     "name": "stdout",
     "output_type": "stream",
     "text": [
      "0\n",
      "2\n"
     ]
    }
   ],
   "source": [
    "index, value = 0, 2 #tuple拆解法\n",
    "print(index)\n",
    "print(value)"
   ]
  },
  {
   "cell_type": "code",
   "execution_count": 13,
   "metadata": {},
   "outputs": [
    {
     "name": "stdout",
     "output_type": "stream",
     "text": [
      "O\n",
      "u\n",
      "O\n",
      "b\n",
      "=======\n"
     ]
    },
    {
     "data": {
      "text/plain": [
       "'O'"
      ]
     },
     "execution_count": 13,
     "metadata": {},
     "output_type": "execute_result"
    }
   ],
   "source": [
    "name:str = \"OuOb\"\n",
    "for word in name:\n",
    "    print(word)\n",
    "print(\"=======\")\n",
    "name[0] #[index]"
   ]
  },
  {
   "cell_type": "code",
   "execution_count": 15,
   "metadata": {},
   "outputs": [
    {
     "name": "stdout",
     "output_type": "stream",
     "text": [
      "Ou\n",
      "Ou\n",
      "uO\n",
      "uOb\n"
     ]
    }
   ],
   "source": [
    "print(name[0:2])\n",
    "print(name[:2]) #前2個\n",
    "print(name[-3:-1])\n",
    "print(name[-3:]) #後3個"
   ]
  }
 ],
 "metadata": {
  "kernelspec": {
   "display_name": "venv1",
   "language": "python",
   "name": "python3"
  },
  "language_info": {
   "codemirror_mode": {
    "name": "ipython",
    "version": 3
   },
   "file_extension": ".py",
   "mimetype": "text/x-python",
   "name": "python",
   "nbconvert_exporter": "python",
   "pygments_lexer": "ipython3",
   "version": "3.12.3"
  }
 },
 "nbformat": 4,
 "nbformat_minor": 2
}
