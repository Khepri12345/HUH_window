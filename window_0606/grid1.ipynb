{
 "cells": [
  {
   "cell_type": "code",
   "execution_count": 16,
   "metadata": {},
   "outputs": [],
   "source": [
    "import tkinter as tk\n",
    "from tkinter import ttk\n",
    "\n",
    "\n",
    "class App(tk.Tk):\n",
    "    def __init__(self):\n",
    "        super().__init__()\n",
    "\n",
    "        self.geometry(\"240x150\")\n",
    "        self.title('Login')\n",
    "        self.resizable(0, 0)\n",
    "\n",
    "        # configure the grid\n",
    "        self.columnconfigure(0, weight=1)\n",
    "        self.columnconfigure(1, weight=3)\n",
    "\n",
    "        self.create_widgets()\n",
    "\n",
    "    def create_widgets(self):\n",
    "        # username\n",
    "        username_label = ttk.Label(self, text=\"Username:\")\n",
    "        username_label.grid(column=0, row=0, sticky=tk.W, padx=5, pady=5)\n",
    "\n",
    "        username_entry = ttk.Entry(self)\n",
    "        username_entry.grid(column=1, row=0, sticky=tk.E, padx=5, pady=5)\n",
    "\n",
    "        # password1\n",
    "        password_label = ttk.Label(self, text=\"Password:\")\n",
    "        password_label.grid(column=0, row=1, sticky=tk.W, padx=5, pady=5)\n",
    "\n",
    "        password_entry = ttk.Entry(self,  show=\"*\")\n",
    "        password_entry.grid(column=1, row=1, sticky=tk.E, padx=5, pady=5)\n",
    "\n",
    "        # password2\n",
    "        password_label = ttk.Label(self, text=\"Password:\")\n",
    "        password_label.grid(column=0, row=2, sticky=tk.W, padx=5, pady=5)\n",
    "\n",
    "        password_entry = ttk.Entry(self,  show=\"*\")\n",
    "        password_entry.grid(column=1, row=2, sticky=tk.E, padx=5, pady=5)\n",
    "\n",
    "        # login button\n",
    "        login_button = ttk.Button(self, text=\"Login\")\n",
    "        login_button.grid(column=1, row=3, sticky=tk.E, padx=5, pady=5)"
   ]
  },
  {
   "cell_type": "code",
   "execution_count": 17,
   "metadata": {},
   "outputs": [],
   "source": [
    "if __name__ == \"__main__\":\n",
    "    app = App()\n",
    "    app.mainloop()"
   ]
  }
 ],
 "metadata": {
  "kernelspec": {
   "display_name": "venv1",
   "language": "python",
   "name": "python3"
  },
  "language_info": {
   "codemirror_mode": {
    "name": "ipython",
    "version": 3
   },
   "file_extension": ".py",
   "mimetype": "text/x-python",
   "name": "python",
   "nbconvert_exporter": "python",
   "pygments_lexer": "ipython3",
   "version": "3.12.3"
  }
 },
 "nbformat": 4,
 "nbformat_minor": 2
}
