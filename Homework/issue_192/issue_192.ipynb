{
 "cells": [
  {
   "cell_type": "code",
   "execution_count": 4,
   "metadata": {},
   "outputs": [],
   "source": [
    "import requests\n",
    "from requests import JSONDecodeError\n",
    "from pprint import pprint\n",
    "\n",
    "def download_json()->dict[any]:\n",
    "    aqi_url = 'https://tcgbusfs.blob.core.windows.net/dotapp/youbike/v2/youbike_immediate.json'\n",
    "\n",
    "    try:\n",
    "        response = requests.get(aqi_url)\n",
    "    except Exception:\n",
    "        raise Exception(\"連線失敗\")\n",
    "    else:\n",
    "        if response.status_code == 200:\n",
    "            try:\n",
    "                all_data:dict[any] = response.json()\n",
    "                return all_data\n",
    "            except JSONDecodeError:\n",
    "                raise Exception(\"json格式錯誤\")\n",
    "        else:\n",
    "            raise Exception(\"OuO\")"
   ]
  },
  {
   "cell_type": "code",
   "execution_count": 5,
   "metadata": {},
   "outputs": [],
   "source": [
    "try:\n",
    "    all_data:dict[any] = download_json()\n",
    "    # pprint(all_data['JSON'])\n",
    "except Exception as error:\n",
    "    print(error)"
   ]
  },
  {
   "cell_type": "code",
   "execution_count": null,
   "metadata": {},
   "outputs": [],
   "source": [
    "from pydantic import BaseModel, Field, RootModel, field_validator, field_serializer\n",
    "\n",
    "class Site(BaseModel):\n",
    "    sna:str\n",
    "    sarea:str\n",
    "    mday:str\n",
    "    ar:str\n",
    "    act:int\n",
    "    updateTime:str\n",
    "    total:int\n",
    "    rentbikes:int = Field(alias='available_rent_bikes')\n",
    "    latitude:float\n",
    "    longitude:float\n",
    "    returnbikes:int = Field(alias='available_return_bikes')\n",
    "\n",
    "class YouBikes(RootModel):\n",
    "    root:list[Site]\n",
    "\n",
    "youbikes:YouBikes = YouBikes.model_validate(all_data)\n",
    "data:list[dict] = youbikes.model_dump()\n",
    "pprint(data)"
   ]
  }
 ],
 "metadata": {
  "kernelspec": {
   "display_name": "venv1",
   "language": "python",
   "name": "python3"
  },
  "language_info": {
   "codemirror_mode": {
    "name": "ipython",
    "version": 3
   },
   "file_extension": ".py",
   "mimetype": "text/x-python",
   "name": "python",
   "nbconvert_exporter": "python",
   "pygments_lexer": "ipython3",
   "version": "3.12.3"
  }
 },
 "nbformat": 4,
 "nbformat_minor": 2
}
