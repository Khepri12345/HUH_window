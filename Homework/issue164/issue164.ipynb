{
 "cells": [
  {
   "cell_type": "code",
   "execution_count": null,
   "metadata": {},
   "outputs": [],
   "source": [
    "with open(\"data.json\", encoding=\"utf-8\") as file:\n",
    "    data:str = file.read()\n",
    "print(data)"
   ]
  },
  {
   "cell_type": "code",
   "execution_count": null,
   "metadata": {},
   "outputs": [],
   "source": [
    "from pydantic import BaseModel\n",
    "from typing import List\n",
    "\n",
    "# data:dict ={\n",
    "#     \"name\": \"Alice\",\n",
    "#     \"age\": 30,\n",
    "#     \"address\": {\n",
    "#         \"street\": \"123 Main St\",\n",
    "#         \"city\": \"Springfield\",\n",
    "#         \"zipcode\": \"12345\"\n",
    "#     },\n",
    "#     \"projects\": [\n",
    "#         {\n",
    "#             \"name\": \"Project A\",\n",
    "#             \"status\": \"completed\"\n",
    "#         },\n",
    "#         {\n",
    "#             \"name\": \"Project B\",\n",
    "#             \"status\": \"ongoing\"\n",
    "#         }\n",
    "#     ]\n",
    "# }\n",
    "\n",
    "class Address(BaseModel):\n",
    "    street:str\n",
    "    city:str\n",
    "    zipcode:int\n",
    "\n",
    "class Project(BaseModel):\n",
    "  name:str\n",
    "  status:str\n",
    "\n",
    "class Person(BaseModel):\n",
    "    name:str\n",
    "    age:int\n",
    "    address:dict = Address\n",
    "    projects = list[Project]\n",
    "\n",
    "p = Person.model_validate_json(data)\n",
    "print(p)"
   ]
  }
 ],
 "metadata": {
  "language_info": {
   "name": "python"
  }
 },
 "nbformat": 4,
 "nbformat_minor": 2
}
