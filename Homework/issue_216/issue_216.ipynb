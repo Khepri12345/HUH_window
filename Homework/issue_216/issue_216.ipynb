{
 "cells": [
  {
   "cell_type": "code",
   "execution_count": 37,
   "metadata": {},
   "outputs": [
    {
     "ename": "KeyboardInterrupt",
     "evalue": "",
     "output_type": "error",
     "traceback": [
      "\u001b[1;31m---------------------------------------------------------------------------\u001b[0m",
      "\u001b[1;31mKeyboardInterrupt\u001b[0m                         Traceback (most recent call last)",
      "Cell \u001b[1;32mIn[37], line 47\u001b[0m\n\u001b[0;32m     44\u001b[0m Button1 \u001b[38;5;241m=\u001b[39m tk\u001b[38;5;241m.\u001b[39mButton(window, text\u001b[38;5;241m=\u001b[39m\u001b[38;5;124m\"\u001b[39m\u001b[38;5;124mquit\u001b[39m\u001b[38;5;124m\"\u001b[39m, command\u001b[38;5;241m=\u001b[39mwindow\u001b[38;5;241m.\u001b[39mdestroy)\n\u001b[0;32m     45\u001b[0m Button1\u001b[38;5;241m.\u001b[39mpack()\n\u001b[1;32m---> 47\u001b[0m \u001b[43mwindow\u001b[49m\u001b[38;5;241;43m.\u001b[39;49m\u001b[43mmainloop\u001b[49m\u001b[43m(\u001b[49m\u001b[43m)\u001b[49m\n",
      "File \u001b[1;32mc:\\Users\\user\\miniconda3\\envs\\venv1\\Lib\\tkinter\\__init__.py:1504\u001b[0m, in \u001b[0;36mMisc.mainloop\u001b[1;34m(self, n)\u001b[0m\n\u001b[0;32m   1502\u001b[0m \u001b[38;5;28;01mdef\u001b[39;00m \u001b[38;5;21mmainloop\u001b[39m(\u001b[38;5;28mself\u001b[39m, n\u001b[38;5;241m=\u001b[39m\u001b[38;5;241m0\u001b[39m):\n\u001b[0;32m   1503\u001b[0m \u001b[38;5;250m    \u001b[39m\u001b[38;5;124;03m\"\"\"Call the mainloop of Tk.\"\"\"\u001b[39;00m\n\u001b[1;32m-> 1504\u001b[0m     \u001b[38;5;28;43mself\u001b[39;49m\u001b[38;5;241;43m.\u001b[39;49m\u001b[43mtk\u001b[49m\u001b[38;5;241;43m.\u001b[39;49m\u001b[43mmainloop\u001b[49m\u001b[43m(\u001b[49m\u001b[43mn\u001b[49m\u001b[43m)\u001b[49m\n",
      "\u001b[1;31mKeyboardInterrupt\u001b[0m: "
     ]
    }
   ],
   "source": [
    "import tkinter as tk\n",
    "import tkinter.messagebox as tkm\n",
    "\n",
    "window = tk.Tk()\n",
    "window.geometry('200x200')\n",
    "window.title(\"Exam Calculator\")\n",
    "\n",
    "def calculate():\n",
    "   \n",
    "    weight = float(entry1.get())\n",
    "    height = float(entry2.get()) \n",
    "    name = str(entry3.get())\n",
    "    BMI = weight/((height/100)*(height/100))\n",
    "    if(BMI<18.5):\n",
    "        cal= \"過輕\"\n",
    "    elif(BMI>=18.5 and BMI<24):\n",
    "        cal = \"正常範圍\"\n",
    "    elif(BMI>=24 and BMI<35):\n",
    "        cal = \"過重\"\n",
    "    else:\n",
    "        cal = \"肥胖\"\n",
    "    \n",
    "    message = f\"{name}您好:\\n\" + f\"你的體重是{cal}\\n\" + f\"BMI:{BMI:.2f}\"\n",
    "    tkm.showinfo(title='Result', message=message)\n",
    "\n",
    "###\n",
    "label1 = tk.Label(window, text='體重')\n",
    "label1.pack()\n",
    "entry1 = tk.Entry(window)\n",
    "entry1.pack()\n",
    "\n",
    "###\n",
    "label2 = tk.Label(window, text='身高')\n",
    "label2.pack()\n",
    "entry2 = tk.Entry(window)\n",
    "entry2.pack()\n",
    "\n",
    "###\n",
    "label3 = tk.Label(window,text='姓名')\n",
    "label3.pack()\n",
    "entry3 = tk.Entry(window)\n",
    "entry3.pack()\n",
    "\n",
    "\n",
    "button2 = tk.Button(window, text=\"Calculate\", command=calculate)\n",
    "button2.pack()\n",
    "Button1 = tk.Button(window, text=\"quit\", command=window.destroy)\n",
    "Button1.pack()\n",
    "\n",
    "window.mainloop()"
   ]
  }
 ],
 "metadata": {
  "kernelspec": {
   "display_name": "venv1",
   "language": "python",
   "name": "python3"
  },
  "language_info": {
   "codemirror_mode": {
    "name": "ipython",
    "version": 3
   },
   "file_extension": ".py",
   "mimetype": "text/x-python",
   "name": "python",
   "nbconvert_exporter": "python",
   "pygments_lexer": "ipython3",
   "version": "3.12.3"
  }
 },
 "nbformat": 4,
 "nbformat_minor": 2
}
