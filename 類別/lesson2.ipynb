{
 "cells": [
  {
   "cell_type": "code",
   "execution_count": 2,
   "metadata": {},
   "outputs": [
    {
     "name": "stdout",
     "output_type": "stream",
     "text": [
      "<class '__main__.Person'>\n",
      "p1.name=main1\n",
      "p1.name=main2\n"
     ]
    }
   ],
   "source": [
    "class Person(): # Person()型別\n",
    "    def __init__(self,n:str): # \n",
    "        self.name = n # .name屬性\n",
    "\n",
    "p1:Person = Person(\"main1\") # :Person 是 type hint\n",
    "print(type(p1)) \n",
    "print(f\"p1.name={p1.name}\")\n",
    "\n",
    "p2:Person = Person(\"main2\")\n",
    "p2.name\n",
    "print(f\"p1.name={p2.name}\")"
   ]
  }
 ],
 "metadata": {
  "kernelspec": {
   "display_name": "venv1",
   "language": "python",
   "name": "python3"
  },
  "language_info": {
   "codemirror_mode": {
    "name": "ipython",
    "version": 3
   },
   "file_extension": ".py",
   "mimetype": "text/x-python",
   "name": "python",
   "nbconvert_exporter": "python",
   "pygments_lexer": "ipython3",
   "version": "3.12.3"
  }
 },
 "nbformat": 4,
 "nbformat_minor": 2
}
