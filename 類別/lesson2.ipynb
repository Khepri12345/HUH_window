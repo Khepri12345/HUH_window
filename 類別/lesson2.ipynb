{
 "cells": [
  {
   "cell_type": "code",
   "execution_count": 14,
   "metadata": {},
   "outputs": [
    {
     "name": "stdout",
     "output_type": "stream",
     "text": [
      "<class '__main__.Person'>\n",
      "p1.name=main1\n",
      "p1.name=main2\n"
     ]
    }
   ],
   "source": [
    "class Person(): # Person()類別\n",
    "    def __init__(self,n:str): \n",
    "        self.name = n # .name屬性\n",
    "    def __repr__(self):\n",
    "        return f\"我是Person的實體,我的名字是:{self.name}\"\n",
    "\n",
    "p1:Person = Person(\"main1\") # :Person 是 type hint\n",
    "print(type(p1)) \n",
    "print(f\"p1.name={p1.name}\") # 實體\n",
    "\n",
    "p2:Person = Person(\"main2\")\n",
    "p2.name\n",
    "print(f\"p1.name={p2.name}\")"
   ]
  },
  {
   "cell_type": "code",
   "execution_count": 13,
   "metadata": {},
   "outputs": [
    {
     "name": "stdout",
     "output_type": "stream",
     "text": [
      "main1\n",
      "main2\n"
     ]
    }
   ],
   "source": [
    "class Student(Person):\n",
    "    def __init__(self,name:str,chinese:int,english:int,math:int):\n",
    "        super().__init__(n=name)\n",
    "        self.chinese = chinese\n",
    "        self.english = english\n",
    "        self.math = math\n",
    "    def __repr__(self):\n",
    "        message = f\"我是Student的實體,我的名字是:{self.name}\\n\"\n",
    "        message += f\"國文分數:{self.chinese}\\n\"\n",
    "        message += f\"英文分數:{self.english}\\n\"\n",
    "        message += f\"數學分數:{self.math}\\n\"\n",
    "        return message\n",
    "\n",
    "s1:Student = Student(name=\"main1\",chinese=89,english=72,math=94)\n",
    "print(s1.name)\n",
    "\n",
    "s2:Student = Student(name=\"main2\",math=65,english=92,chinese=84)\n",
    "print(s2.name)"
   ]
  },
  {
   "cell_type": "code",
   "execution_count": 16,
   "metadata": {},
   "outputs": [
    {
     "name": "stdout",
     "output_type": "stream",
     "text": [
      "我是Person的實體,我的名字是:main1\n",
      "我是Student的實體,我的名字是:main1\n",
      "國文分數:89\n",
      "英文分數:72\n",
      "數學分數:94\n",
      "\n",
      "我是Person的實體,我的名字是:main2\n",
      "我是Student的實體,我的名字是:main2\n",
      "國文分數:84\n",
      "英文分數:92\n",
      "數學分數:65\n",
      "\n"
     ]
    }
   ],
   "source": [
    "print(p1)\n",
    "print(s1)\n",
    "\n",
    "print(p2)\n",
    "print(s2)"
   ]
  }
 ],
 "metadata": {
  "kernelspec": {
   "display_name": "venv1",
   "language": "python",
   "name": "python3"
  },
  "language_info": {
   "codemirror_mode": {
    "name": "ipython",
    "version": 3
   },
   "file_extension": ".py",
   "mimetype": "text/x-python",
   "name": "python",
   "nbconvert_exporter": "python",
   "pygments_lexer": "ipython3",
   "version": "3.12.3"
  }
 },
 "nbformat": 4,
 "nbformat_minor": 2
}
